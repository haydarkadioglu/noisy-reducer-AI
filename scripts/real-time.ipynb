{
 "cells": [
  {
   "cell_type": "markdown",
   "metadata": {},
   "source": [
    "\"\"\"\n",
    "\n",
    "# THIS FILE IS NOT WORKİNG\n",
    "\n",
    "## I'M STILL WORKİNG ON IT\n",
    "\n",
    "\n",
    "\"\"\""
   ]
  },
  {
   "cell_type": "code",
   "execution_count": 2,
   "metadata": {},
   "outputs": [
    {
     "name": "stderr",
     "output_type": "stream",
     "text": [
      "WARNING:absl:Compiled the loaded model, but the compiled metrics have yet to be built. `model.compile_metrics` will be empty until you train or evaluate the model.\n"
     ]
    },
    {
     "name": "stdout",
     "output_type": "stream",
     "text": [
      "INFO:tensorflow:Assets written to: C:\\Users\\ahayd\\AppData\\Local\\Temp\\tmpd7tsg2_s\\assets\n"
     ]
    },
    {
     "name": "stderr",
     "output_type": "stream",
     "text": [
      "INFO:tensorflow:Assets written to: C:\\Users\\ahayd\\AppData\\Local\\Temp\\tmpd7tsg2_s\\assets\n"
     ]
    },
    {
     "name": "stdout",
     "output_type": "stream",
     "text": [
      "Saved artifact at 'C:\\Users\\ahayd\\AppData\\Local\\Temp\\tmpd7tsg2_s'. The following endpoints are available:\n",
      "\n",
      "* Endpoint 'serve'\n",
      "  args_0 (POSITIONAL_ONLY): TensorSpec(shape=(None, 12000, 1), dtype=tf.float32, name='input_layer')\n",
      "Output Type:\n",
      "  TensorSpec(shape=(None, 12000, 1), dtype=tf.float32, name=None)\n",
      "Captures:\n",
      "  1837944734736: TensorSpec(shape=(), dtype=tf.resource, name=None)\n",
      "  1837944736080: TensorSpec(shape=(), dtype=tf.resource, name=None)\n",
      "  1837944735120: TensorSpec(shape=(), dtype=tf.resource, name=None)\n",
      "  1837944736656: TensorSpec(shape=(), dtype=tf.resource, name=None)\n",
      "  1837944734928: TensorSpec(shape=(), dtype=tf.resource, name=None)\n",
      "  1837944734544: TensorSpec(shape=(), dtype=tf.resource, name=None)\n",
      "  1837944736464: TensorSpec(shape=(), dtype=tf.resource, name=None)\n",
      "  1837944737616: TensorSpec(shape=(), dtype=tf.resource, name=None)\n",
      "  1837944736272: TensorSpec(shape=(), dtype=tf.resource, name=None)\n",
      "  1837944738384: TensorSpec(shape=(), dtype=tf.resource, name=None)\n",
      "  1837944738000: TensorSpec(shape=(), dtype=tf.resource, name=None)\n",
      "  1837944738960: TensorSpec(shape=(), dtype=tf.resource, name=None)\n",
      "  1837944739152: TensorSpec(shape=(), dtype=tf.resource, name=None)\n",
      "  1837944739728: TensorSpec(shape=(), dtype=tf.resource, name=None)\n",
      "  1837944739344: TensorSpec(shape=(), dtype=tf.resource, name=None)\n",
      "  1837944741264: TensorSpec(shape=(), dtype=tf.resource, name=None)\n",
      "  1837944740880: TensorSpec(shape=(), dtype=tf.resource, name=None)\n",
      "  1837944741840: TensorSpec(shape=(), dtype=tf.resource, name=None)\n",
      "  1837944741648: TensorSpec(shape=(), dtype=tf.resource, name=None)\n",
      "  1837944742416: TensorSpec(shape=(), dtype=tf.resource, name=None)\n",
      "  1837944742608: TensorSpec(shape=(), dtype=tf.resource, name=None)\n",
      "  1837944743184: TensorSpec(shape=(), dtype=tf.resource, name=None)\n",
      "  1837944743376: TensorSpec(shape=(), dtype=tf.resource, name=None)\n",
      "  1837944743952: TensorSpec(shape=(), dtype=tf.resource, name=None)\n"
     ]
    }
   ],
   "source": [
    "import tensorflow as tf\n",
    "\n",
    "# Load your Keras model\n",
    "model = tf.keras.models.load_model('model/first-enhanced-data.hdf5')\n",
    "\n",
    "# Convert the model to a quantized version\n",
    "converter = tf.lite.TFLiteConverter.from_keras_model(model)\n",
    "converter.optimizations = [tf.lite.Optimize.DEFAULT]\n",
    "tflite_model = converter.convert()\n",
    "\n",
    "# Save the quantized model\n",
    "with open('quantized_model.tflite', 'wb') as f:\n",
    "    f.write(tflite_model)"
   ]
  },
  {
   "cell_type": "markdown",
   "metadata": {},
   "source": []
  }
 ],
 "metadata": {
  "kernelspec": {
   "display_name": "Python 3",
   "language": "python",
   "name": "python3"
  },
  "language_info": {
   "codemirror_mode": {
    "name": "ipython",
    "version": 3
   },
   "file_extension": ".py",
   "mimetype": "text/x-python",
   "name": "python",
   "nbconvert_exporter": "python",
   "pygments_lexer": "ipython3",
   "version": "3.12.3"
  }
 },
 "nbformat": 4,
 "nbformat_minor": 2
}

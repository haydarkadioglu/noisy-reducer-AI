{
 "cells": [
  {
   "cell_type": "code",
   "execution_count": 2,
   "metadata": {},
   "outputs": [],
   "source": [
    "import librosa\n",
    "import soundfile as sf\n",
    "import numpy as np\n"
   ]
  },
  {
   "cell_type": "code",
   "execution_count": 10,
   "metadata": {},
   "outputs": [],
   "source": [
    "\n",
    "# Ses dosyasını yükleyin\n",
    "file_path = \"data/clean-v5.WAV\"\n",
    "audio, sample_rate = librosa.load(file_path, sr=None)\n",
    "\n",
    "\n",
    "\n"
   ]
  },
  {
   "cell_type": "code",
   "execution_count": 12,
   "metadata": {},
   "outputs": [],
   "source": [
    "\n",
    "segment_length = 20\n",
    "\n",
    "\n",
    "samples_per_segment = segment_length * sample_rate\n",
    "\n",
    "\n",
    "total_samples = len(audio)\n"
   ]
  },
  {
   "cell_type": "code",
   "execution_count": 13,
   "metadata": {},
   "outputs": [
    {
     "name": "stderr",
     "output_type": "stream",
     "text": [
      "100%|██████████| 1218/1218 [00:09<00:00, 126.88it/s]"
     ]
    },
    {
     "name": "stdout",
     "output_type": "stream",
     "text": [
      "Ses dosyası başarıyla bölündü.\n"
     ]
    },
    {
     "name": "stderr",
     "output_type": "stream",
     "text": [
      "\n"
     ]
    }
   ],
   "source": [
    "from tqdm import tqdm\n",
    "count = 1\n",
    "\n",
    "for i in tqdm(range(0, total_samples, samples_per_segment)):\n",
    "    start_sample = i\n",
    "    end_sample = i + samples_per_segment if i + samples_per_segment < total_samples else total_samples\n",
    "\n",
    "    # Segmenti kırpma\n",
    "    segment = audio[start_sample:end_sample]\n",
    "\n",
    "    # Segmenti kaydetme\n",
    "    segment_filename = f\"data/long/clean/{count}.wav\"\n",
    "    sf.write(segment_filename, segment, sample_rate)\n",
    "    count+=1\n",
    "\n",
    "print(\"Ses dosyası başarıyla bölündü.\")"
   ]
  }
 ],
 "metadata": {
  "kernelspec": {
   "display_name": "Python 3",
   "language": "python",
   "name": "python3"
  },
  "language_info": {
   "codemirror_mode": {
    "name": "ipython",
    "version": 3
   },
   "file_extension": ".py",
   "mimetype": "text/x-python",
   "name": "python",
   "nbconvert_exporter": "python",
   "pygments_lexer": "ipython3",
   "version": "3.12.3"
  }
 },
 "nbformat": 4,
 "nbformat_minor": 2
}

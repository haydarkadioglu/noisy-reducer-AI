{
 "cells": [
  {
   "cell_type": "code",
   "execution_count": 3,
   "metadata": {},
   "outputs": [],
   "source": [
    "import os\n",
    "\n",
    "# Define the directory containing the files\n",
    "directory = 'test/clean_testset_wav'\n",
    "\n",
    "# Get a list of all files in the directory\n",
    "files = os.listdir(directory)\n",
    "\n",
    "# Sort the files to ensure they are renamed in the correct order\n",
    "files.sort()\n",
    "\n",
    "# Rename the files with the new naming convention\n",
    "for index, filename in enumerate(files):\n",
    "    new_name = f\"{index + 1}.wav\"\n",
    "    new_path = os.path.join(directory, new_name)\n",
    "    original_path = os.path.join(directory, filename)\n",
    "    \n",
    "    # Check if the new file name already exists\n",
    "    if os.path.exists(new_path):\n",
    "        suffix = 1\n",
    "        while os.path.exists(new_path):\n",
    "            new_name = f\"{index + 1}_{suffix}.wav\"\n",
    "            new_path = os.path.join(directory, new_name)\n",
    "            suffix += 1\n",
    "    \n",
    "    os.rename(original_path, new_path)"
   ]
  }
 ],
 "metadata": {
  "kernelspec": {
   "display_name": "Python 3",
   "language": "python",
   "name": "python3"
  },
  "language_info": {
   "codemirror_mode": {
    "name": "ipython",
    "version": 3
   },
   "file_extension": ".py",
   "mimetype": "text/x-python",
   "name": "python",
   "nbconvert_exporter": "python",
   "pygments_lexer": "ipython3",
   "version": "3.12.3"
  }
 },
 "nbformat": 4,
 "nbformat_minor": 2
}
